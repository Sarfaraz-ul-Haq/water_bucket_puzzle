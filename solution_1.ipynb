{
  "cells": [
    {
      "cell_type": "code",
      "execution_count": 2,
      "metadata": {
        "vscode": {
          "languageId": "plaintext"
        },
        "id": "SJQI8rYkOWbX",
        "outputId": "d363d493-ba17-4e48-8f95-190e6a4273cf",
        "colab": {
          "base_uri": "https://localhost:8080/"
        }
      },
      "outputs": [
        {
          "output_type": "stream",
          "name": "stdout",
          "text": [
            "\n",
            "Try to get 4L of water into one of these buckets:\n",
            "\n",
            "8|      |\n",
            "7|      |\n",
            "6|      |\n",
            "5|      |        5|      |\n",
            "4|      |        4|      |\n",
            "3|      |        3|      |        3|      |\n",
            "2|      |        2|      |        2|      |\n",
            "1|      |        1|      |        1|      |\n",
            " +------+         +------+         +------+\n",
            "    8L               5L               3L\n",
            "\n",
            " You can:\n",
            "  (F)ill the bucket\n",
            "  (E)mpty the bucket\n",
            "  (P)our one bucket into another\n",
            "  (Q)uit\n"
          ]
        }
      ],
      "source": [
        "print(\"\"\"\n",
        "Try to get 4L of water into one of these buckets:\n",
        "\n",
        "8|      |\n",
        "7|      |\n",
        "6|      |\n",
        "5|      |        5|      |\n",
        "4|      |        4|      |\n",
        "3|      |        3|      |        3|      |\n",
        "2|      |        2|      |        2|      |\n",
        "1|      |        1|      |        1|      |\n",
        " |------|         |------|         |------|\n",
        "    8L               5L               3L\n",
        "\n",
        " You can:\n",
        "  (F)ill the bucket\n",
        "  (E)mpty the bucket\n",
        "  (P)our one bucket into another\n",
        "  (Q)uit\"\"\")"
      ]
    },
    {
      "cell_type": "code",
      "source": [
        "from typing import Dict\n",
        "\n",
        "buckets = {\n",
        "    '8L': 0,\n",
        "    '5L': 0,\n",
        "    '3L': 0\n",
        "}\n",
        "\n",
        "def display_buckets(buckets: Dict[str, int]):\n",
        "    for bucket_size, water in buckets.items():\n",
        "        print(f\"{bucket_size} bucket: {water}L\")\n",
        "\n",
        "display_buckets(buckets)"
      ],
      "metadata": {
        "id": "OEKGXVCAZ4OZ",
        "outputId": "3e48bd19-65dd-4daf-ff40-b89b9200cacc",
        "colab": {
          "base_uri": "https://localhost:8080/"
        }
      },
      "execution_count": 2,
      "outputs": [
        {
          "output_type": "stream",
          "name": "stdout",
          "text": [
            "8L bucket: 0L\n",
            "5L bucket: 0L\n",
            "3L bucket: 0L\n"
          ]
        }
      ]
    }
  ],
  "metadata": {
    "language_info": {
      "name": "python"
    },
    "colab": {
      "provenance": []
    },
    "kernelspec": {
      "name": "python3",
      "display_name": "Python 3"
    }
  },
  "nbformat": 4,
  "nbformat_minor": 0
}